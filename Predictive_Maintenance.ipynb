{
 "cells": [
  {
   "cell_type": "markdown",
   "metadata": {},
   "source": [
    "# Internet of Things und Machine Learning\n",
    "## Am Beispiel Predictive Maintenance"
   ]
  },
  {
   "cell_type": "markdown",
   "metadata": {},
   "source": [
    "## Gather Sensor Data"
   ]
  },
  {
   "cell_type": "code",
   "execution_count": null,
   "metadata": {},
   "outputs": [],
   "source": [
    "#!/usr/bin/python3\n",
    "#-*- coding:utf-8 -*-\n",
    "\n",
    "import time\n",
    "from datetime import datetime\n",
    "from datetime import timedelta\n",
    "import csv\n",
    "\n",
    "import RPi.GPIO as GPIO\n",
    "GPIO.setwarnings(False)\n",
    "\n",
    "\n",
    "# List to gather measured data\n",
    "sensor_data_list = []\n",
    "\n",
    "# Defines duration of measurement in seconds\n",
    "time_delta = 35 + 180\n",
    "duration = datetime.now() + timedelta(seconds=time_delta)\n",
    "\n",
    "\n",
    "# DS18B20. Reads temperature data from one wire\n",
    "def read_temp_data():\n",
    "    \n",
    "    # With command ls in cd /sys/bus/w1/devices in the console the 'sensor id' can be read\n",
    "    # With cat 'sensor id' the sensor data can be shown\n",
    "    sensor_id = '28-0120333c7ec8'\n",
    "    sensor_directory = f'/sys/bus/w1/devices/{sensor_id}/w1_slave'\n",
    "\n",
    "    f = open(sensor_directory, 'r')\n",
    "    lines = f.readlines()\n",
    "    f.close()\n",
    "    return lines\n",
    "\n",
    "# SW420. Reads vibration data\n",
    "def read_vibration_data():\n",
    "\n",
    "    channel = 17\n",
    "    GPIO.setmode(GPIO.BCM)\n",
    "    GPIO.setup(channel, GPIO.IN)\n",
    "\n",
    "    if GPIO.input(channel)==True:\n",
    "        return 1\n",
    "    else: \n",
    "        return 0\n",
    "\n",
    "# Reads data from acustic sensor  \n",
    "def read_acustic_data():\n",
    "    \n",
    "    channel = 21\n",
    "    GPIO.setmode(GPIO.BCM)\n",
    "    GPIO.setup(channel, GPIO.IN) \n",
    "\n",
    "    if GPIO.input(channel)==True:\n",
    "        return 0\n",
    "    else: \n",
    "        return 1 \n",
    "\n",
    "\n",
    "# Reads data depending on the given duration. See above\n",
    "while duration > datetime.now():\n",
    "    \n",
    "    # Timestamp for current measurement \n",
    "    sensor_timestamp = datetime.now()\n",
    "\n",
    "    # Call function for temp measurement\n",
    "    temp_sliced = str(read_temp_data())[-9:-4] \n",
    "    temp_sliced_int_comma = int(temp_sliced)/1000\n",
    "    print(\"Temperature:\", temp_sliced_int_comma)\n",
    "\n",
    "    # Call function for vibration measurement\n",
    "    vibration_value = read_vibration_data()\n",
    "    print(\"Vibration:\", vibration_value)\n",
    "\n",
    "    # Call function for acustic measurement\n",
    "    analog_binary = read_acustic_data()\n",
    "    print(\"Volt binary:\", analog_binary)\n",
    "\n",
    "    # Append timestamp and sensor data to the list\n",
    "    sensor_data_list.append([sensor_timestamp, temp_sliced, temp_sliced_int_comma, vibration_value, analog_binary])\n",
    "\n",
    "    # Delay of the measurement to handle the amount of data\n",
    "    time.sleep(0.1)\n",
    "\n",
    "\n",
    "# Save meadured data to a csv-File\n",
    "with open(f'sensor_data_0_5_L_{sensor_timestamp}.csv', mode = 'a+', newline=\"\") as f:\n",
    "\n",
    "    csv_writer = csv.writer(f, delimiter = ',')\n",
    "    csv_writer.writerows(sensor_data_list)\n",
    "\n",
    "print('End of program')"
   ]
  },
  {
   "cell_type": "markdown",
   "metadata": {},
   "source": [
    "## 1. Data Import"
   ]
  },
  {
   "cell_type": "code",
   "execution_count": 3,
   "metadata": {
    "scrolled": true
   },
   "outputs": [],
   "source": [
    "import pandas as pd\n",
    "import matplotlib.pyplot as plt\n",
    "# %matplotlib inline\n",
    "import numpy as np\n",
    "import glob\n",
    "\n",
    "# Load data\n",
    "path = r'_Sensor_Data/'\n",
    "all_files = glob.glob(path + \"/*.csv\")\n",
    "\n",
    "li = []\n",
    "\n",
    "for filename in all_files:\n",
    "    df = pd.read_csv(filename, index_col=None, header=None)\n",
    "    li.append(df)"
   ]
  },
  {
   "cell_type": "markdown",
   "metadata": {},
   "source": [
    "## 2. First Insights"
   ]
  },
  {
   "cell_type": "code",
   "execution_count": 4,
   "metadata": {},
   "outputs": [
    {
     "data": {
      "text/html": [
       "<div>\n",
       "<style scoped>\n",
       "    .dataframe tbody tr th:only-of-type {\n",
       "        vertical-align: middle;\n",
       "    }\n",
       "\n",
       "    .dataframe tbody tr th {\n",
       "        vertical-align: top;\n",
       "    }\n",
       "\n",
       "    .dataframe thead th {\n",
       "        text-align: right;\n",
       "    }\n",
       "</style>\n",
       "<table border=\"1\" class=\"dataframe\">\n",
       "  <thead>\n",
       "    <tr style=\"text-align: right;\">\n",
       "      <th></th>\n",
       "      <th>Time</th>\n",
       "      <th>Temperature Raw</th>\n",
       "      <th>Temperature</th>\n",
       "      <th>Sound</th>\n",
       "    </tr>\n",
       "  </thead>\n",
       "  <tbody>\n",
       "    <tr>\n",
       "      <th>0</th>\n",
       "      <td>2020-09-16 15:15:06.973696</td>\n",
       "      <td>90937</td>\n",
       "      <td>90.937</td>\n",
       "      <td>0</td>\n",
       "    </tr>\n",
       "    <tr>\n",
       "      <th>1</th>\n",
       "      <td>2020-09-16 15:15:08.004212</td>\n",
       "      <td>90937</td>\n",
       "      <td>90.937</td>\n",
       "      <td>0</td>\n",
       "    </tr>\n",
       "    <tr>\n",
       "      <th>2</th>\n",
       "      <td>2020-09-16 15:15:08.964348</td>\n",
       "      <td>90937</td>\n",
       "      <td>90.937</td>\n",
       "      <td>0</td>\n",
       "    </tr>\n",
       "    <tr>\n",
       "      <th>3</th>\n",
       "      <td>2020-09-16 15:15:09.924118</td>\n",
       "      <td>90937</td>\n",
       "      <td>90.937</td>\n",
       "      <td>0</td>\n",
       "    </tr>\n",
       "    <tr>\n",
       "      <th>4</th>\n",
       "      <td>2020-09-16 15:15:10.884045</td>\n",
       "      <td>90875</td>\n",
       "      <td>90.875</td>\n",
       "      <td>0</td>\n",
       "    </tr>\n",
       "    <tr>\n",
       "      <th>...</th>\n",
       "      <td>...</td>\n",
       "      <td>...</td>\n",
       "      <td>...</td>\n",
       "      <td>...</td>\n",
       "    </tr>\n",
       "    <tr>\n",
       "      <th>218</th>\n",
       "      <td>2020-09-16 15:07:40.243999</td>\n",
       "      <td>92875</td>\n",
       "      <td>92.875</td>\n",
       "      <td>0</td>\n",
       "    </tr>\n",
       "    <tr>\n",
       "      <th>219</th>\n",
       "      <td>2020-09-16 15:07:41.284032</td>\n",
       "      <td>92750</td>\n",
       "      <td>92.750</td>\n",
       "      <td>0</td>\n",
       "    </tr>\n",
       "    <tr>\n",
       "      <th>220</th>\n",
       "      <td>2020-09-16 15:07:42.244014</td>\n",
       "      <td>92625</td>\n",
       "      <td>92.625</td>\n",
       "      <td>0</td>\n",
       "    </tr>\n",
       "    <tr>\n",
       "      <th>221</th>\n",
       "      <td>2020-09-16 15:07:43.204212</td>\n",
       "      <td>92500</td>\n",
       "      <td>92.500</td>\n",
       "      <td>0</td>\n",
       "    </tr>\n",
       "    <tr>\n",
       "      <th>222</th>\n",
       "      <td>2020-09-16 15:07:44.164048</td>\n",
       "      <td>92500</td>\n",
       "      <td>92.500</td>\n",
       "      <td>0</td>\n",
       "    </tr>\n",
       "  </tbody>\n",
       "</table>\n",
       "<p>7384 rows × 4 columns</p>\n",
       "</div>"
      ],
      "text/plain": [
       "                           Time  Temperature Raw  Temperature  Sound\n",
       "0    2020-09-16 15:15:06.973696            90937       90.937      0\n",
       "1    2020-09-16 15:15:08.004212            90937       90.937      0\n",
       "2    2020-09-16 15:15:08.964348            90937       90.937      0\n",
       "3    2020-09-16 15:15:09.924118            90937       90.937      0\n",
       "4    2020-09-16 15:15:10.884045            90875       90.875      0\n",
       "..                          ...              ...          ...    ...\n",
       "218  2020-09-16 15:07:40.243999            92875       92.875      0\n",
       "219  2020-09-16 15:07:41.284032            92750       92.750      0\n",
       "220  2020-09-16 15:07:42.244014            92625       92.625      0\n",
       "221  2020-09-16 15:07:43.204212            92500       92.500      0\n",
       "222  2020-09-16 15:07:44.164048            92500       92.500      0\n",
       "\n",
       "[7384 rows x 4 columns]"
      ]
     },
     "execution_count": 4,
     "metadata": {},
     "output_type": "execute_result"
    }
   ],
   "source": [
    "entire_data_placeholder = pd.concat(li)\n",
    "entire_data = entire_data_placeholder.drop(columns=3)\n",
    "entire_data.columns= [\"Time\",\"Temperature Raw\", \"Temperature\", \"Sound\"]\n",
    "entire_data"
   ]
  },
  {
   "cell_type": "code",
   "execution_count": 6,
   "metadata": {
    "scrolled": false
   },
   "outputs": [
    {
     "data": {
      "text/html": [
       "<div>\n",
       "<style scoped>\n",
       "    .dataframe tbody tr th:only-of-type {\n",
       "        vertical-align: middle;\n",
       "    }\n",
       "\n",
       "    .dataframe tbody tr th {\n",
       "        vertical-align: top;\n",
       "    }\n",
       "\n",
       "    .dataframe thead th {\n",
       "        text-align: right;\n",
       "    }\n",
       "</style>\n",
       "<table border=\"1\" class=\"dataframe\">\n",
       "  <thead>\n",
       "    <tr style=\"text-align: right;\">\n",
       "      <th></th>\n",
       "      <th>Temperature Raw</th>\n",
       "      <th>Temperature</th>\n",
       "      <th>Sound</th>\n",
       "    </tr>\n",
       "  </thead>\n",
       "  <tbody>\n",
       "    <tr>\n",
       "      <th>count</th>\n",
       "      <td>7384.000000</td>\n",
       "      <td>7384.000000</td>\n",
       "      <td>7384.000000</td>\n",
       "    </tr>\n",
       "    <tr>\n",
       "      <th>mean</th>\n",
       "      <td>95511.889626</td>\n",
       "      <td>95.511890</td>\n",
       "      <td>0.028575</td>\n",
       "    </tr>\n",
       "    <tr>\n",
       "      <th>std</th>\n",
       "      <td>2393.590686</td>\n",
       "      <td>2.393591</td>\n",
       "      <td>0.166621</td>\n",
       "    </tr>\n",
       "    <tr>\n",
       "      <th>min</th>\n",
       "      <td>83937.000000</td>\n",
       "      <td>83.937000</td>\n",
       "      <td>0.000000</td>\n",
       "    </tr>\n",
       "    <tr>\n",
       "      <th>25%</th>\n",
       "      <td>93937.000000</td>\n",
       "      <td>93.937000</td>\n",
       "      <td>0.000000</td>\n",
       "    </tr>\n",
       "    <tr>\n",
       "      <th>50%</th>\n",
       "      <td>95562.000000</td>\n",
       "      <td>95.562000</td>\n",
       "      <td>0.000000</td>\n",
       "    </tr>\n",
       "    <tr>\n",
       "      <th>75%</th>\n",
       "      <td>97375.000000</td>\n",
       "      <td>97.375000</td>\n",
       "      <td>0.000000</td>\n",
       "    </tr>\n",
       "    <tr>\n",
       "      <th>max</th>\n",
       "      <td>99562.000000</td>\n",
       "      <td>99.562000</td>\n",
       "      <td>1.000000</td>\n",
       "    </tr>\n",
       "  </tbody>\n",
       "</table>\n",
       "</div>"
      ],
      "text/plain": [
       "       Temperature Raw  Temperature        Sound\n",
       "count      7384.000000  7384.000000  7384.000000\n",
       "mean      95511.889626    95.511890     0.028575\n",
       "std        2393.590686     2.393591     0.166621\n",
       "min       83937.000000    83.937000     0.000000\n",
       "25%       93937.000000    93.937000     0.000000\n",
       "50%       95562.000000    95.562000     0.000000\n",
       "75%       97375.000000    97.375000     0.000000\n",
       "max       99562.000000    99.562000     1.000000"
      ]
     },
     "execution_count": 6,
     "metadata": {},
     "output_type": "execute_result"
    }
   ],
   "source": [
    "entire_data.describe()"
   ]
  },
  {
   "cell_type": "code",
   "execution_count": 7,
   "metadata": {},
   "outputs": [
    {
     "data": {
      "text/plain": [
       "<seaborn.axisgrid.PairGrid at 0x1f7c81a2ac0>"
      ]
     },
     "execution_count": 7,
     "metadata": {},
     "output_type": "execute_result"
    },
    {
     "data": {
      "image/png": "[encoded data removed]",
      "text/plain": [
       "<Figure size 540x540 with 12 Axes>"
      ]
     },
     "metadata": {
      "needs_background": "light"
     },
     "output_type": "display_data"
    }
   ],
   "source": [
    "import seaborn as sns\n",
    "sns.pairplot(entire_data)"
   ]
  },
  {
   "cell_type": "markdown",
   "metadata": {},
   "source": [
    "## 3. Prepare Data"
   ]
  },
  {
   "cell_type": "code",
   "execution_count": 28,
   "metadata": {},
   "outputs": [],
   "source": [
    "# Seperate data based on liter\n",
    "data_half_liter = li[0:12]\n",
    "data_one_half_liter = li[12:23] \n",
    "data_one_liter = li[23:]\n",
    "\n",
    "# Seperate data based on liter and measurement as numpy arrays\n",
    "data_half_liter_1 = np.array(data_half_liter[0])\n",
    "data_half_liter_2 = np.array(data_half_liter[1])\n",
    "data_half_liter_3 = np.array(data_half_liter[2])\n",
    "data_half_liter_4 = np.array(data_half_liter[3])\n",
    "data_half_liter_5 = np.array(data_half_liter[4])\n",
    "data_half_liter_6 = np.array(data_half_liter[5])\n",
    "data_half_liter_7 = np.array(data_half_liter[6])\n",
    "data_half_liter_8 = np.array(data_half_liter[7])\n",
    "data_half_liter_9 = np.array(data_half_liter[8])\n",
    "data_half_liter_10 = np.array(data_half_liter[9])\n",
    "\n",
    "data_one_liter_1 = np.array(data_one_liter[0])\n",
    "data_one_liter_2 = np.array(data_one_liter[1])\n",
    "data_one_liter_3 = np.array(data_one_liter[2])\n",
    "data_one_liter_4 = np.array(data_one_liter[3])\n",
    "data_one_liter_5 = np.array(data_one_liter[4])\n",
    "data_one_liter_6 = np.array(data_one_liter[5])\n",
    "data_one_liter_7 = np.array(data_one_liter[6])\n",
    "data_one_liter_8 = np.array(data_one_liter[7])\n",
    "data_one_liter_9 = np.array(data_one_liter[8])\n",
    "data_one_liter_10 = np.array(data_one_liter[9])\n",
    "\n",
    "data_one_half_liter_1 = np.array(data_one_half_liter[0])\n",
    "data_one_half_liter_2 = np.array(data_one_half_liter[1])\n",
    "data_one_half_liter_3 = np.array(data_one_half_liter[2])\n",
    "data_one_half_liter_4 = np.array(data_one_half_liter[3])\n",
    "data_one_half_liter_5 = np.array(data_one_half_liter[4])\n",
    "data_one_half_liter_6 = np.array(data_one_half_liter[5])\n",
    "data_one_half_liter_7 = np.array(data_one_half_liter[6])\n",
    "data_one_half_liter_8 = np.array(data_one_half_liter[7])\n",
    "data_one_half_liter_9 = np.array(data_one_half_liter[8])\n",
    "data_one_half_liter_10 = np.array(data_one_half_liter[9])"
   ]
  },
  {
   "cell_type": "code",
   "execution_count": 44,
   "metadata": {
    "scrolled": true
   },
   "outputs": [],
   "source": [
    "# Aggregate data to gain insights into possible classes\n",
    "\n",
    "data_aggr = pd.DataFrame()\n",
    "\n",
    "# Temperature data\n",
    "data_aggr.loc[0,0] = data_half_liter_1[10:23,2].sum()\n",
    "data_aggr.loc[1,0] = data_half_liter_2[10:23,2].sum()\n",
    "data_aggr.loc[2,0] = data_half_liter_3[10:23,2].sum()\n",
    "data_aggr.loc[3,0] = data_half_liter_4[10:23,2].sum()\n",
    "data_aggr.loc[4,0] = data_half_liter_5[10:23,2].sum()\n",
    "data_aggr.loc[5,0] = data_half_liter_6[10:23,2].sum()\n",
    "data_aggr.loc[6,0] = data_half_liter_7[10:23,2].sum()\n",
    "data_aggr.loc[7,0] = data_half_liter_8[10:23,2].sum()\n",
    "data_aggr.loc[8,0] = data_half_liter_9[10:23,2].sum()\n",
    "data_aggr.loc[9,0] = data_half_liter_10[10:23,2].sum()\n",
    "\n",
    "data_aggr.loc[10,0] = data_one_liter_1[10:38,2].sum()\n",
    "data_aggr.loc[11,0] = data_one_liter_2[10:38,2].sum()\n",
    "data_aggr.loc[12,0] = data_one_liter_3[10:38,2].sum()\n",
    "data_aggr.loc[13,0] = data_one_liter_4[10:38,2].sum()\n",
    "data_aggr.loc[14,0] = data_one_liter_5[10:38,2].sum()\n",
    "data_aggr.loc[15,0] = data_one_liter_6[10:38,2].sum()\n",
    "data_aggr.loc[16,0] = data_one_liter_7[10:38,2].sum()\n",
    "data_aggr.loc[17,0] = data_one_liter_8[10:38,2].sum()\n",
    "data_aggr.loc[18,0] = data_one_liter_9[10:38,2].sum()\n",
    "data_aggr.loc[19,0] = data_one_liter_10[10:38,2].sum()\n",
    "\n",
    "data_aggr.loc[20,0] = data_one_half_liter_1[10:50,2].sum()\n",
    "data_aggr.loc[21,0] = data_one_half_liter_2[10:50,2].sum()\n",
    "data_aggr.loc[22,0] = data_one_half_liter_3[10:50,2].sum()\n",
    "data_aggr.loc[23,0] = data_one_half_liter_4[10:50,2].sum()\n",
    "data_aggr.loc[24,0] = data_one_half_liter_5[10:50,2].sum()\n",
    "data_aggr.loc[25,0] = data_one_half_liter_6[10:50,2].sum()\n",
    "data_aggr.loc[26,0] = data_one_half_liter_7[10:50,2].sum()\n",
    "data_aggr.loc[27,0] = data_one_half_liter_8[10:50,2].sum()\n",
    "data_aggr.loc[28,0] = data_one_half_liter_9[10:50,2].sum()\n",
    "data_aggr.loc[29,0] = data_one_half_liter_10[10:50,2].sum()\n",
    "\n",
    "# Sound data\n",
    "data_aggr.loc[0,1] = data_half_liter_1[10:23,4].sum()\n",
    "data_aggr.loc[1,1] = data_half_liter_2[10:23,4].sum()\n",
    "data_aggr.loc[2,1] = data_half_liter_3[10:23,4].sum()\n",
    "data_aggr.loc[3,1] = data_half_liter_4[10:23,4].sum()\n",
    "data_aggr.loc[4,1] = data_half_liter_5[10:23,4].sum()\n",
    "data_aggr.loc[5,1] = data_half_liter_6[10:23,4].sum()\n",
    "data_aggr.loc[6,1] = data_half_liter_7[10:23,4].sum()\n",
    "data_aggr.loc[7,1] = data_half_liter_8[10:23,4].sum()\n",
    "data_aggr.loc[8,1] = data_half_liter_9[10:23,4].sum()\n",
    "data_aggr.loc[9,1] = data_half_liter_10[10:23,4].sum()\n",
    "\n",
    "data_aggr.loc[10,1] = data_one_liter_1[10:38,4].sum()\n",
    "data_aggr.loc[11,1] = data_one_liter_2[10:38,4].sum()\n",
    "data_aggr.loc[12,1] = data_one_liter_3[10:38,4].sum()\n",
    "data_aggr.loc[13,1] = data_one_liter_4[10:38,4].sum()\n",
    "data_aggr.loc[14,1] = data_one_liter_5[10:38,4].sum()\n",
    "data_aggr.loc[15,1] = data_one_liter_6[10:38,4].sum()\n",
    "data_aggr.loc[16,1] = data_one_liter_7[10:38,4].sum()\n",
    "data_aggr.loc[17,1] = data_one_liter_8[10:38,4].sum()\n",
    "data_aggr.loc[18,1] = data_one_liter_9[10:38,4].sum()\n",
    "data_aggr.loc[19,1] = data_one_liter_10[10:38,4].sum()\n",
    "\n",
    "data_aggr.loc[20,1] = data_one_half_liter_1[10:50,4].sum()\n",
    "data_aggr.loc[21,1] = data_one_half_liter_2[10:50,4].sum()\n",
    "data_aggr.loc[22,1] = data_one_half_liter_3[10:50,4].sum()\n",
    "data_aggr.loc[23,1] = data_one_half_liter_4[10:50,4].sum()\n",
    "data_aggr.loc[24,1] = data_one_half_liter_5[10:50,4].sum()\n",
    "data_aggr.loc[25,1] = data_one_half_liter_6[10:50,4].sum()\n",
    "data_aggr.loc[26,1] = data_one_half_liter_7[10:50,4].sum()\n",
    "data_aggr.loc[27,1] = data_one_half_liter_8[10:50,4].sum()\n",
    "data_aggr.loc[28,1] = data_one_half_liter_9[10:50,4].sum()\n",
    "data_aggr.loc[29,1] = data_one_half_liter_10[10:50,4].sum()\n",
    "\n",
    "data_aggr.loc[0:9,2] = 500\n",
    "data_aggr.loc[10:19,2] = 1000\n",
    "data_aggr.loc[20:29,2] = 1500"
   ]
  },
  {
   "cell_type": "code",
   "execution_count": 46,
   "metadata": {},
   "outputs": [
    {
     "data": {
      "text/html": [
       "<div>\n",
       "<style scoped>\n",
       "    .dataframe tbody tr th:only-of-type {\n",
       "        vertical-align: middle;\n",
       "    }\n",
       "\n",
       "    .dataframe tbody tr th {\n",
       "        vertical-align: top;\n",
       "    }\n",
       "\n",
       "    .dataframe thead th {\n",
       "        text-align: right;\n",
       "    }\n",
       "</style>\n",
       "<table border=\"1\" class=\"dataframe\">\n",
       "  <thead>\n",
       "    <tr style=\"text-align: right;\">\n",
       "      <th></th>\n",
       "      <th>Temperature</th>\n",
       "      <th>Sound</th>\n",
       "      <th>Filling Level</th>\n",
       "    </tr>\n",
       "  </thead>\n",
       "  <tbody>\n",
       "    <tr>\n",
       "      <th>0</th>\n",
       "      <td>1260.872</td>\n",
       "      <td>1.0</td>\n",
       "      <td>500.0</td>\n",
       "    </tr>\n",
       "    <tr>\n",
       "      <th>1</th>\n",
       "      <td>1260.058</td>\n",
       "      <td>0.0</td>\n",
       "      <td>500.0</td>\n",
       "    </tr>\n",
       "    <tr>\n",
       "      <th>2</th>\n",
       "      <td>1213.621</td>\n",
       "      <td>1.0</td>\n",
       "      <td>500.0</td>\n",
       "    </tr>\n",
       "    <tr>\n",
       "      <th>3</th>\n",
       "      <td>1262.058</td>\n",
       "      <td>2.0</td>\n",
       "      <td>500.0</td>\n",
       "    </tr>\n",
       "    <tr>\n",
       "      <th>4</th>\n",
       "      <td>1256.934</td>\n",
       "      <td>2.0</td>\n",
       "      <td>500.0</td>\n",
       "    </tr>\n",
       "    <tr>\n",
       "      <th>5</th>\n",
       "      <td>1268.810</td>\n",
       "      <td>0.0</td>\n",
       "      <td>500.0</td>\n",
       "    </tr>\n",
       "    <tr>\n",
       "      <th>6</th>\n",
       "      <td>1260.934</td>\n",
       "      <td>0.0</td>\n",
       "      <td>500.0</td>\n",
       "    </tr>\n",
       "    <tr>\n",
       "      <th>7</th>\n",
       "      <td>1233.560</td>\n",
       "      <td>1.0</td>\n",
       "      <td>500.0</td>\n",
       "    </tr>\n",
       "    <tr>\n",
       "      <th>8</th>\n",
       "      <td>1259.746</td>\n",
       "      <td>0.0</td>\n",
       "      <td>500.0</td>\n",
       "    </tr>\n",
       "    <tr>\n",
       "      <th>9</th>\n",
       "      <td>1259.872</td>\n",
       "      <td>0.0</td>\n",
       "      <td>500.0</td>\n",
       "    </tr>\n",
       "    <tr>\n",
       "      <th>10</th>\n",
       "      <td>2741.619</td>\n",
       "      <td>8.0</td>\n",
       "      <td>1000.0</td>\n",
       "    </tr>\n",
       "    <tr>\n",
       "      <th>11</th>\n",
       "      <td>2753.055</td>\n",
       "      <td>2.0</td>\n",
       "      <td>1000.0</td>\n",
       "    </tr>\n",
       "    <tr>\n",
       "      <th>12</th>\n",
       "      <td>2750.432</td>\n",
       "      <td>5.0</td>\n",
       "      <td>1000.0</td>\n",
       "    </tr>\n",
       "    <tr>\n",
       "      <th>13</th>\n",
       "      <td>2694.432</td>\n",
       "      <td>5.0</td>\n",
       "      <td>1000.0</td>\n",
       "    </tr>\n",
       "    <tr>\n",
       "      <th>14</th>\n",
       "      <td>2752.806</td>\n",
       "      <td>5.0</td>\n",
       "      <td>1000.0</td>\n",
       "    </tr>\n",
       "    <tr>\n",
       "      <th>15</th>\n",
       "      <td>2742.240</td>\n",
       "      <td>6.0</td>\n",
       "      <td>1000.0</td>\n",
       "    </tr>\n",
       "    <tr>\n",
       "      <th>16</th>\n",
       "      <td>2657.806</td>\n",
       "      <td>4.0</td>\n",
       "      <td>1000.0</td>\n",
       "    </tr>\n",
       "    <tr>\n",
       "      <th>17</th>\n",
       "      <td>2750.617</td>\n",
       "      <td>8.0</td>\n",
       "      <td>1000.0</td>\n",
       "    </tr>\n",
       "    <tr>\n",
       "      <th>18</th>\n",
       "      <td>2670.305</td>\n",
       "      <td>8.0</td>\n",
       "      <td>1000.0</td>\n",
       "    </tr>\n",
       "    <tr>\n",
       "      <th>19</th>\n",
       "      <td>2754.743</td>\n",
       "      <td>4.0</td>\n",
       "      <td>1000.0</td>\n",
       "    </tr>\n",
       "    <tr>\n",
       "      <th>20</th>\n",
       "      <td>3875.612</td>\n",
       "      <td>3.0</td>\n",
       "      <td>1500.0</td>\n",
       "    </tr>\n",
       "    <tr>\n",
       "      <th>21</th>\n",
       "      <td>3935.427</td>\n",
       "      <td>3.0</td>\n",
       "      <td>1500.0</td>\n",
       "    </tr>\n",
       "    <tr>\n",
       "      <th>22</th>\n",
       "      <td>3929.490</td>\n",
       "      <td>5.0</td>\n",
       "      <td>1500.0</td>\n",
       "    </tr>\n",
       "    <tr>\n",
       "      <th>23</th>\n",
       "      <td>3916.366</td>\n",
       "      <td>10.0</td>\n",
       "      <td>1500.0</td>\n",
       "    </tr>\n",
       "    <tr>\n",
       "      <th>24</th>\n",
       "      <td>3928.116</td>\n",
       "      <td>10.0</td>\n",
       "      <td>1500.0</td>\n",
       "    </tr>\n",
       "    <tr>\n",
       "      <th>25</th>\n",
       "      <td>3946.803</td>\n",
       "      <td>3.0</td>\n",
       "      <td>1500.0</td>\n",
       "    </tr>\n",
       "    <tr>\n",
       "      <th>26</th>\n",
       "      <td>3913.492</td>\n",
       "      <td>5.0</td>\n",
       "      <td>1500.0</td>\n",
       "    </tr>\n",
       "    <tr>\n",
       "      <th>27</th>\n",
       "      <td>3947.239</td>\n",
       "      <td>4.0</td>\n",
       "      <td>1500.0</td>\n",
       "    </tr>\n",
       "    <tr>\n",
       "      <th>28</th>\n",
       "      <td>3884.367</td>\n",
       "      <td>4.0</td>\n",
       "      <td>1500.0</td>\n",
       "    </tr>\n",
       "    <tr>\n",
       "      <th>29</th>\n",
       "      <td>3940.617</td>\n",
       "      <td>8.0</td>\n",
       "      <td>1500.0</td>\n",
       "    </tr>\n",
       "  </tbody>\n",
       "</table>\n",
       "</div>"
      ],
      "text/plain": [
       "    Temperature  Sound  Filling Level\n",
       "0      1260.872    1.0          500.0\n",
       "1      1260.058    0.0          500.0\n",
       "2      1213.621    1.0          500.0\n",
       "3      1262.058    2.0          500.0\n",
       "4      1256.934    2.0          500.0\n",
       "5      1268.810    0.0          500.0\n",
       "6      1260.934    0.0          500.0\n",
       "7      1233.560    1.0          500.0\n",
       "8      1259.746    0.0          500.0\n",
       "9      1259.872    0.0          500.0\n",
       "10     2741.619    8.0         1000.0\n",
       "11     2753.055    2.0         1000.0\n",
       "12     2750.432    5.0         1000.0\n",
       "13     2694.432    5.0         1000.0\n",
       "14     2752.806    5.0         1000.0\n",
       "15     2742.240    6.0         1000.0\n",
       "16     2657.806    4.0         1000.0\n",
       "17     2750.617    8.0         1000.0\n",
       "18     2670.305    8.0         1000.0\n",
       "19     2754.743    4.0         1000.0\n",
       "20     3875.612    3.0         1500.0\n",
       "21     3935.427    3.0         1500.0\n",
       "22     3929.490    5.0         1500.0\n",
       "23     3916.366   10.0         1500.0\n",
       "24     3928.116   10.0         1500.0\n",
       "25     3946.803    3.0         1500.0\n",
       "26     3913.492    5.0         1500.0\n",
       "27     3947.239    4.0         1500.0\n",
       "28     3884.367    4.0         1500.0\n",
       "29     3940.617    8.0         1500.0"
      ]
     },
     "execution_count": 46,
     "metadata": {},
     "output_type": "execute_result"
    }
   ],
   "source": [
    "data_aggr.columns= [\"Temperature\", \"Sound\", \"Filling Level\"]\n",
    "data_aggr"
   ]
  },
  {
   "cell_type": "markdown",
   "metadata": {},
   "source": [
    "## 4. Visualize"
   ]
  },
  {
   "cell_type": "code",
   "execution_count": 47,
   "metadata": {},
   "outputs": [
    {
     "data": {
      "text/plain": [
       "<matplotlib.legend.Legend at 0x1f7cae818e0>"
      ]
     },
     "execution_count": 47,
     "metadata": {},
     "output_type": "execute_result"
    },
    {
     "data": {
      "image/png": "[encoded data removed]",
      "text/plain": [
       "<Figure size 432x288 with 1 Axes>"
      ]
     },
     "metadata": {
      "needs_background": "light"
     },
     "output_type": "display_data"
    }
   ],
   "source": [
    "# Plot exemplary data from pandas data frames\n",
    "\n",
    "x_axis_seconds = np.arange(0,224,1)\n",
    "\n",
    "data_half_liter_1_df = pd.DataFrame(data_half_liter_1)\n",
    "data_half_liter_2_df = pd.DataFrame(data_half_liter_2)\n",
    "\n",
    "data_one_liter_1_df = pd.DataFrame(data_one_liter_3)\n",
    "data_one_liter_2_df = pd.DataFrame(data_one_liter_2)\n",
    "\n",
    "data_one_half_liter_1_df = pd.DataFrame(data_one_half_liter_3)\n",
    "data_one_half_liter_2_df = pd.DataFrame(data_one_half_liter_2)\n",
    "\n",
    "plt.plot(x_axis_seconds, data_half_liter_1_df[2], c=\"red\", label=\"0.5 liter\")\n",
    "plt.plot(x_axis_seconds, data_half_liter_2_df[2], c=\"red\")\n",
    "\n",
    "plt.plot(x_axis_seconds, data_one_liter_1_df[2], c=\"blue\", label=\"1.0 liter\")\n",
    "plt.plot(x_axis_seconds, data_one_liter_2_df[2], c=\"blue\")\n",
    "\n",
    "plt.plot(x_axis_seconds, data_one_half_liter_1_df[2], c=\"green\", label=\"1.5 liter\")\n",
    "plt.plot(x_axis_seconds, data_one_half_liter_2_df[2], c=\"green\")\n",
    "plt.xlabel(\"Number of Measurements\")                  # label of the y axis\n",
    "plt.ylabel(\"Temperature\")                             # label of the y axis\n",
    "plt.title(\"Exemplary Curves from Dataset\")\n",
    "plt.legend()\n",
    "#plt.show()\n"
   ]
  },
  {
   "cell_type": "code",
   "execution_count": 48,
   "metadata": {
    "scrolled": true
   },
   "outputs": [
    {
     "data": {
      "text/plain": [
       "<matplotlib.legend.Legend at 0x1f7cc310700>"
      ]
     },
     "execution_count": 48,
     "metadata": {},
     "output_type": "execute_result"
    },
    {
     "data": {
      "image/png": "[encoded data removed]",
      "text/plain": [
       "<Figure size 432x288 with 1 Axes>"
      ]
     },
     "metadata": {
      "needs_background": "light"
     },
     "output_type": "display_data"
    }
   ],
   "source": [
    "# Plot exemplary data from pandas data frames\n",
    "\n",
    "x_axis_seconds = np.arange(0,40,1)\n",
    "\n",
    "data_half_liter_1_df = pd.DataFrame(data_half_liter_4[10:50,:])\n",
    "data_half_liter_2_df = pd.DataFrame(data_half_liter_2[10:50,:])\n",
    "\n",
    "data_one_liter_1_df = pd.DataFrame(data_one_liter_3[10:50,:])\n",
    "data_one_liter_2_df = pd.DataFrame(data_one_liter_2[10:50,:])\n",
    "\n",
    "data_one_half_liter_1_df = pd.DataFrame(data_one_half_liter_3[10:50,:])\n",
    "data_one_half_liter_2_df = pd.DataFrame(data_one_half_liter_2[10:50,:])\n",
    "\n",
    "plt.plot(x_axis_seconds, data_half_liter_1_df[2], c=\"red\", label=\"0.5 liter\")\n",
    "plt.plot(x_axis_seconds, data_half_liter_2_df[2], c=\"red\")\n",
    "\n",
    "plt.plot(x_axis_seconds, data_one_liter_1_df[2], c=\"blue\", label=\"1.0 liter\")\n",
    "plt.plot(x_axis_seconds, data_one_liter_2_df[2], c=\"blue\")\n",
    "\n",
    "plt.plot(x_axis_seconds, data_one_half_liter_1_df[2], c=\"green\", label=\"1.5 liter\")\n",
    "plt.plot(x_axis_seconds, data_one_half_liter_2_df[2], c=\"green\")\n",
    "plt.xlabel(\"Number of Measurements\")                  # label of the y axis\n",
    "plt.ylabel(\"Temperature\")                             # label of the y axis\n",
    "plt.title(\"Exemplary Curves from Dataset\")\n",
    "plt.legend()\n",
    "#plt.show()\n"
   ]
  },
  {
   "cell_type": "code",
   "execution_count": 49,
   "metadata": {
    "scrolled": true
   },
   "outputs": [
    {
     "data": {
      "text/plain": [
       "<matplotlib.legend.Legend at 0x1f7cd338100>"
      ]
     },
     "execution_count": 49,
     "metadata": {},
     "output_type": "execute_result"
    },
    {
     "data": {
      "image/png": "[encoded data removed]",
      "text/plain": [
       "<Figure size 432x288 with 1 Axes>"
      ]
     },
     "metadata": {
      "needs_background": "light"
     },
     "output_type": "display_data"
    }
   ],
   "source": [
    "# Plot exemplary data from pandas data frames\n",
    "\n",
    "x_axis_seconds = np.arange(10,50,1)\n",
    "\n",
    "data_half_liter_1_df = pd.DataFrame(data_half_liter_1[10:25,:])\n",
    "data_half_liter_2_df = pd.DataFrame(data_half_liter_2[10:25,:])\n",
    "\n",
    "data_one_liter_1_df = pd.DataFrame(data_one_liter_3[10:34,:])\n",
    "data_one_liter_2_df = pd.DataFrame(data_one_liter_2[10:34,:])\n",
    "\n",
    "data_one_half_liter_1_df = pd.DataFrame(data_one_half_liter_3[10:40,:])\n",
    "data_one_half_liter_2_df = pd.DataFrame(data_one_half_liter_2[10:40,:])\n",
    "\n",
    "x_axis_seconds = np.arange(10,25,1)\n",
    "plt.plot(x_axis_seconds, data_half_liter_1_df[2], c=\"red\", label=\"0.5 liter\")\n",
    "plt.plot(x_axis_seconds, data_half_liter_2_df[2], c=\"red\")\n",
    "\n",
    "x_axis_seconds = np.arange(10,34,1)\n",
    "plt.plot(x_axis_seconds, data_one_liter_1_df[2], c=\"blue\", label=\"1.0 liter\")\n",
    "plt.plot(x_axis_seconds, data_one_liter_2_df[2], c=\"blue\")\n",
    "\n",
    "x_axis_seconds = np.arange(10,40,1)\n",
    "plt.plot(x_axis_seconds, data_one_half_liter_1_df[2], c=\"green\", label=\"1.5 liter\")\n",
    "plt.plot(x_axis_seconds, data_one_half_liter_2_df[2], c=\"green\")\n",
    "plt.xlabel(\"Number of Measurements\")                  # label of the y axis\n",
    "plt.ylabel(\"Temperature\")                             # label of the y axis\n",
    "plt.title(\"Exemplary Curves from Dataset\")\n",
    "plt.legend()\n",
    "#plt.show()\n"
   ]
  },
  {
   "cell_type": "code",
   "execution_count": 50,
   "metadata": {
    "scrolled": true
   },
   "outputs": [
    {
     "data": {
      "text/plain": [
       "array([[0.01728515, 0.1       , 0.        ],\n",
       "       [0.01698738, 0.        , 0.        ],\n",
       "       [0.        , 0.1       , 0.        ],\n",
       "       [0.01771901, 0.2       , 0.        ],\n",
       "       [0.01584457, 0.2       , 0.        ],\n",
       "       [0.02018899, 0.        , 0.        ],\n",
       "       [0.01730783, 0.        , 0.        ],\n",
       "       [0.007294  , 0.1       , 0.        ],\n",
       "       [0.01687324, 0.        , 0.        ],\n",
       "       [0.01691934, 0.        , 0.        ],\n",
       "       [0.55896544, 0.8       , 0.5       ],\n",
       "       [0.56314891, 0.2       , 0.5       ],\n",
       "       [0.56218938, 0.5       , 0.5       ],\n",
       "       [0.54170371, 0.5       , 0.5       ],\n",
       "       [0.56305782, 0.5       , 0.5       ],\n",
       "       [0.55919262, 0.6       , 0.5       ],\n",
       "       [0.52830534, 0.4       , 0.5       ],\n",
       "       [0.56225705, 0.8       , 0.5       ],\n",
       "       [0.53287767, 0.8       , 0.5       ],\n",
       "       [0.56376641, 0.4       , 0.5       ],\n",
       "       [0.97379773, 0.3       , 1.        ],\n",
       "       [0.99567899, 0.3       , 1.        ],\n",
       "       [0.99350714, 0.5       , 1.        ],\n",
       "       [0.98870618, 1.        , 1.        ],\n",
       "       [0.99300451, 1.        , 1.        ],\n",
       "       [0.9998405 , 0.3       , 1.        ],\n",
       "       [0.98765482, 0.5       , 1.        ],\n",
       "       [1.        , 0.4       , 1.        ],\n",
       "       [0.97700044, 0.4       , 1.        ],\n",
       "       [0.99757757, 0.8       , 1.        ]])"
      ]
     },
     "execution_count": 50,
     "metadata": {},
     "output_type": "execute_result"
    }
   ],
   "source": [
    "from sklearn.preprocessing import MinMaxScaler\n",
    "\n",
    "scaler = MinMaxScaler()\n",
    "scaler.fit(data_aggr)\n",
    "data_aggr_scaled = scaler.transform(data_aggr)\n",
    "len(data_aggr_scaled[:,0])\n",
    "data_aggr_scaled"
   ]
  },
  {
   "cell_type": "code",
   "execution_count": 51,
   "metadata": {
    "scrolled": true
   },
   "outputs": [
    {
     "data": {
      "image/png": "[encoded data removed]",
      "text/plain": [
       "<Figure size 432x288 with 1 Axes>"
      ]
     },
     "metadata": {
      "needs_background": "light"
     },
     "output_type": "display_data"
    }
   ],
   "source": [
    "plt.scatter(data_aggr_scaled[:,0], data_aggr_scaled[:,1])\n",
    "plt.xlabel(\"Temperature\")\n",
    "plt.ylabel(\"Sound\")\n",
    "plt.show()"
   ]
  },
  {
   "cell_type": "code",
   "execution_count": 52,
   "metadata": {},
   "outputs": [],
   "source": [
    "from sklearn.model_selection import train_test_split\n",
    "\n",
    "filling_level = data_aggr[\"Filling Level\"]\n",
    "filling_level_placeholder = filling_level.values\n",
    "filling_level_shaped = filling_level_placeholder.reshape((-1,1))\n",
    "\n",
    "X_train, X_test, y_train, y_test = train_test_split(data_aggr_scaled[:,0:2], filling_level_shaped, random_state = 0, test_size = 0.25)"
   ]
  },
  {
   "cell_type": "code",
   "execution_count": 53,
   "metadata": {
    "scrolled": false
   },
   "outputs": [
    {
     "data": {
      "image/png": "[encoded data removed]",
      "text/plain": [
       "<Figure size 432x288 with 1 Axes>"
      ]
     },
     "metadata": {
      "needs_background": "light"
     },
     "output_type": "display_data"
    }
   ],
   "source": [
    "plt.scatter(data_aggr_scaled[:,0], data_aggr_scaled[:,1], c=data_aggr_scaled[:,2])\n",
    "plt.xlabel(\"Temperature\")\n",
    "plt.ylabel(\"Sound\")\n",
    "plt.show()"
   ]
  },
  {
   "cell_type": "markdown",
   "metadata": {},
   "source": [
    "## 5. Select, Apply and Fine-tune Model"
   ]
  },
  {
   "cell_type": "code",
   "execution_count": 54,
   "metadata": {
    "scrolled": true
   },
   "outputs": [
    {
     "name": "stdout",
     "output_type": "stream",
     "text": [
      "{'estimator__C': 4, 'estimator__coef0': 1, 'estimator__degree': 2, 'estimator__gamma': 1, 'estimator__kernel': 'poly'}\n",
      "1.0\n"
     ]
    }
   ],
   "source": [
    "from sklearn.svm import SVC # Support Vector Machine Approach\n",
    "from sklearn.multiclass import OneVsRestClassifier # Approach for multiple classes\n",
    "from sklearn.model_selection import GridSearchCV # Grid Search to find best parameter combination\n",
    "from sklearn.preprocessing import label_binarize # Convert textual classes in binary classes\n",
    "from sklearn.model_selection import train_test_split # Split data set into a train and test set\n",
    "from sklearn.model_selection import cross_val_score # For explanation please show internet\n",
    "from sklearn.metrics import mean_squared_error # For calculating lost function\n",
    "\n",
    "svm_grid_search = OneVsRestClassifier(SVC())\n",
    "\n",
    "parameters = {               \n",
    "          \"estimator__kernel\": [\"poly\"],\n",
    "          \"estimator__C\": [4,5,6,7,8,10,12,14,16,18,20,22,24,26,28,30,32],\n",
    "          \"estimator__degree\": [1, 2, 3, 4, 5],\n",
    "          \"estimator__gamma\": [1,2, 3, 4,5],\n",
    "          \"estimator__coef0\": [0,1,2,3]\n",
    "          }\n",
    "\n",
    "grid_search = GridSearchCV(svm_grid_search, parameters, cv=8, scoring=\"accuracy\", return_train_score=True)\n",
    "grid_search.fit(data_aggr_scaled[:,0:2], filling_level_shaped)\n",
    "\n",
    "print(grid_search.best_params_)\n",
    "print(grid_search.best_score_)"
   ]
  },
  {
   "cell_type": "code",
   "execution_count": 55,
   "metadata": {
    "scrolled": true
   },
   "outputs": [
    {
     "name": "stdout",
     "output_type": "stream",
     "text": [
      "{'estimator__C': 1, 'estimator__gamma': 10, 'estimator__kernel': 'rbf'}\n",
      "1.0\n"
     ]
    }
   ],
   "source": [
    "svm_grid_search = OneVsRestClassifier(SVC())\n",
    "parameters = {\n",
    "          \"estimator__kernel\": [\"rbf\"],\n",
    "          \"estimator__C\": [1,2,4,6,8,10,12,14, 50, 100, 200, 300, 400, 500, 600, 700, 800, 900, 1000],\n",
    "          \"estimator__gamma\": [10,15,20,25,30, 35, 40, 45, 50, 55, 60, 65, 70, 75, 80, 85, 90, 95, 100]\n",
    "          }\n",
    "\n",
    "grid_search = GridSearchCV(svm_grid_search, parameters, cv=8, scoring=\"accuracy\", return_train_score=True)\n",
    "grid_search.fit(data_aggr_scaled[:,0:2], filling_level_shaped)\n",
    "\n",
    "print(grid_search.best_params_)\n",
    "print(grid_search.best_score_)"
   ]
  },
  {
   "cell_type": "markdown",
   "metadata": {},
   "source": [
    "## 6. Predict with the Model"
   ]
  },
  {
   "cell_type": "code",
   "execution_count": 56,
   "metadata": {
    "scrolled": true
   },
   "outputs": [
    {
     "data": {
      "text/plain": [
       "OneVsRestClassifier(estimator=SVC(C=4, coef0=1, gamma=4, kernel='poly'))"
      ]
     },
     "execution_count": 56,
     "metadata": {},
     "output_type": "execute_result"
    }
   ],
   "source": [
    "# Predict the fill level Poly\n",
    "fill_level_poly = OneVsRestClassifier(SVC(kernel=\"poly\",C=4, degree=2, gamma=1, coef0=1))\n",
    "fill_level_poly.fit(X_train, y_train)"
   ]
  },
  {
   "cell_type": "code",
   "execution_count": 57,
   "metadata": {
    "scrolled": false
   },
   "outputs": [
    {
     "data": {
      "text/plain": [
       "array([500.])"
      ]
     },
     "execution_count": 57,
     "metadata": {},
     "output_type": "execute_result"
    }
   ],
   "source": [
    "fill_level_poly.predict(X_test[0,:].reshape(1, -1))\n"
   ]
  },
  {
   "cell_type": "code",
   "execution_count": 58,
   "metadata": {},
   "outputs": [
    {
     "data": {
      "text/plain": [
       "array([[ 500.],\n",
       "       [1500.],\n",
       "       [1000.],\n",
       "       [1000.],\n",
       "       [1500.],\n",
       "       [1500.],\n",
       "       [1500.],\n",
       "       [1000.]])"
      ]
     },
     "execution_count": 58,
     "metadata": {},
     "output_type": "execute_result"
    }
   ],
   "source": [
    "y_test"
   ]
  },
  {
   "cell_type": "code",
   "execution_count": null,
   "metadata": {},
   "outputs": [],
   "source": [
    "# Predict the fill level RBF\n",
    "fill_level_rbf = OneVsRestClassifier(SVC(kernel=\"rbf\",C=1, gamma=10))\n",
    "fill_level_rbf.fit(X_train, y_train)"
   ]
  },
  {
   "cell_type": "code",
   "execution_count": 60,
   "metadata": {},
   "outputs": [
    {
     "data": {
      "text/plain": [
       "array([500.])"
      ]
     },
     "execution_count": 60,
     "metadata": {},
     "output_type": "execute_result"
    }
   ],
   "source": [
    "fill_level_poly.predict(X_test[0,:].reshape(1, -1))"
   ]
  },
  {
   "cell_type": "code",
   "execution_count": 61,
   "metadata": {},
   "outputs": [
    {
     "data": {
      "text/plain": [
       "array([[ 500.],\n",
       "       [1500.],\n",
       "       [1000.],\n",
       "       [1000.],\n",
       "       [1500.],\n",
       "       [1500.],\n",
       "       [1500.],\n",
       "       [1000.]])"
      ]
     },
     "execution_count": 61,
     "metadata": {},
     "output_type": "execute_result"
    }
   ],
   "source": [
    "y_test"
   ]
  },
  {
   "cell_type": "code",
   "execution_count": null,
   "metadata": {},
   "outputs": [],
   "source": []
  }
 ],
 "metadata": {
  "kernelspec": {
   "display_name": "Python 3",
   "language": "python",
   "name": "python3"
  },
  "language_info": {
   "codemirror_mode": {
    "name": "ipython",
    "version": 3
   },
   "file_extension": ".py",
   "mimetype": "text/x-python",
   "name": "python",
   "nbconvert_exporter": "python",
   "pygments_lexer": "ipython3",
   "version": "3.8.3"
  }
 },
 "nbformat": 4,
 "nbformat_minor": 4
}
